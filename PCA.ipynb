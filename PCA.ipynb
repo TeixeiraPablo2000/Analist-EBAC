{
  "cells": [
    {
      "cell_type": "markdown",
      "metadata": {
        "id": "VXS8qasEXUW5"
      },
      "source": [
        "![Cabec%CC%A7alho_notebook.png](cabecalho_notebook.png)"
      ]
    },
    {
      "cell_type": "markdown",
      "metadata": {
        "id": "fMk1eNGKXUW9"
      },
      "source": [
        "# PCA - Tarefa 01: *HAR* com PCA\n",
        "\n",
        "Vamos trabalhar com a base da demonstração feita em aula, mas vamos explorar um pouco melhor como é o desempenho da árvore variando o número de componentes principais."
      ]
    },
    {
      "cell_type": "code",
      "execution_count": 7,
      "metadata": {
        "id": "XoiuNbIqXUW-"
      },
      "outputs": [],
      "source": [
        "import pandas as pd\n",
        "from sklearn.tree import DecisionTreeClassifier\n",
        "from sklearn.decomposition import PCA\n",
        "from sklearn.metrics import accuracy_score\n",
        "from sklearn.model_selection import cross_val_score, GridSearchCV\n",
        "import time\n",
        "\n",
        "filename_features = \"/content/features.txt\"\n",
        "filename_labels = \"/content/activity_labels.txt\"\n",
        "\n",
        "filename_subtrain = \"/content/subject_train.txt\"\n",
        "filename_xtrain = \"/content/X_train.txt\"\n",
        "filename_ytrain = \"/content/y_train.txt\"\n",
        "\n",
        "filename_subtest = \"/content/subject_test.txt\"\n",
        "filename_xtest = \"/content/X_test.txt\"\n",
        "filename_ytest = \"/content/y_test.txt\"\n",
        "\n",
        "# Carregar features e labels\n",
        "features = pd.read_csv(filename_features, sep='\\s+', header=None, names=['idx', 'nome_var'], encoding=\"utf-8\")\n",
        "features = features['nome_var'].tolist()\n",
        "\n",
        "# Remover duplicatas dos nomes das variáveis\n",
        "features = list(dict.fromkeys(features))  # Remove duplicatas mantendo a ordem\n",
        "\n",
        "labels = pd.read_csv(filename_labels, sep='\\s+', header=None, names=['cod_label', 'label'], encoding=\"utf-8\")\n",
        "\n",
        "# Carregar dados de treino\n",
        "subject_train = pd.read_csv(filename_subtrain, header=None, names=['subject_id'], encoding=\"utf-8\")['subject_id']\n",
        "X_train = pd.read_csv(filename_xtrain, sep='\\s+', header=None, names=features, encoding=\"utf-8\")\n",
        "y_train = pd.read_csv(filename_ytrain, header=None, names=['cod_label'], encoding=\"utf-8\")\n",
        "\n",
        "# Carregar dados de teste\n",
        "subject_test = pd.read_csv(filename_subtest, header=None, names=['subject_id'], encoding=\"utf-8\")['subject_id']\n",
        "X_test = pd.read_csv(filename_xtest, sep='\\s+', header=None, names=features, encoding=\"utf-8\")\n",
        "y_test = pd.read_csv(filename_ytest, header=None, names=['cod_label'], encoding=\"utf-8\")"
      ]
    },
    {
      "cell_type": "markdown",
      "metadata": {
        "id": "1tRhd6SSXUW_"
      },
      "source": [
        "## Árvore de decisão\n",
        "\n",
        "Rode uma árvore de decisão com todas as variáveis, utilizando o ```ccp_alpha=0.001```. Avalie a acurácia nas bases de treinamento e teste. Avalie o tempo de processamento."
      ]
    },
    {
      "cell_type": "code",
      "execution_count": 6,
      "metadata": {
        "colab": {
          "base_uri": "https://localhost:8080/"
        },
        "id": "GZWCHMlbXUXA",
        "outputId": "6b9327a1-839d-4c30-90d0-f661451f0afe"
      },
      "outputs": [
        {
          "output_type": "stream",
          "name": "stdout",
          "text": [
            "Tempo de treinamento: 6.9027 segundos\n",
            "Tempo de teste: 0.0052 segundos\n",
            "Acurácia no conjunto de treinamento: 0.9763\n",
            "Acurácia no conjunto de teste: 0.8789\n",
            "CPU times: user 6.76 s, sys: 6.31 ms, total: 6.76 s\n",
            "Wall time: 6.92 s\n"
          ]
        }
      ],
      "source": [
        "%%time\n",
        "# Inicializar o classificador com o parâmetro ccp_alpha\n",
        "clf = DecisionTreeClassifier(random_state=42, ccp_alpha=0.001)\n",
        "\n",
        "# Medir o tempo de treinamento\n",
        "start_train = time.time()\n",
        "clf.fit(X_train, y_train)\n",
        "end_train = time.time()\n",
        "\n",
        "# Fazer previsões no conjunto de treino e teste\n",
        "y_train_pred = clf.predict(X_train)\n",
        "y_test_pred = clf.predict(X_test)\n",
        "\n",
        "# Medir o tempo de predição no conjunto de teste\n",
        "start_test = time.time()\n",
        "accuracy_train = accuracy_score(y_train, y_train_pred)\n",
        "accuracy_test = accuracy_score(y_test, y_test_pred)\n",
        "end_test = time.time()\n",
        "\n",
        "# Exibir os resultados\n",
        "print(\"Tempo de treinamento: {:.4f} segundos\".format(end_train - start_train))\n",
        "print(\"Tempo de teste: {:.4f} segundos\".format(end_test - start_test))\n",
        "print(\"Acurácia no conjunto de treinamento: {:.4f}\".format(accuracy_train))\n",
        "print(\"Acurácia no conjunto de teste: {:.4f}\".format(accuracy_test))"
      ]
    },
    {
      "cell_type": "markdown",
      "source": [
        "### Avaliação de Desempenho do Modelo\n",
        "\n",
        "#### Resultados:\n",
        "- **Tempo de Processamento:**\n",
        "  - **Tempo de Treinamento:** 6.9027 segundos\n",
        "  - **Tempo de Teste:** 0.0052 segundos\n",
        "\n",
        "- **Acurácia:**\n",
        "  - **Conjunto de Treinamento:** 0.9763 (bom ajuste, sem sinais evidentes de overfitting extremo)\n",
        "  - **Conjunto de Teste:** 0.8789 (boa capacidade de generalização)\n",
        "\n",
        "- **CPU Times:**\n",
        "  - **User Time:** 6.76 s\n",
        "  - **System Time:** 6.31 ms\n",
        "  - **Wall Time:** 6.92 s\n",
        "\n",
        "---\n",
        "\n",
        "### Observações:\n",
        "1. **Eficiência Computacional:**  \n",
        "   O treinamento consumiu um tempo razoável (6.9027 segundos), considerando o modelo e o tamanho dos dados. O tempo de teste foi extremamente rápido (0.0052 segundos), o que demonstra eficiência nas previsões.\n",
        "\n",
        "2. **Desempenho Geral:**  \n",
        "   A acurácia no conjunto de treinamento (97.63%) mostra que o modelo ajustou-se bem aos padrões dos dados, enquanto a acurácia no conjunto de teste (87.89%) sugere uma boa capacidade de generalização. A diferença entre as duas acurácias não é grande, o que indica que o modelo está balanceado.\n",
        "\n",
        "3. **Interpretação Geral:**  \n",
        "   Uma acurácia de 87.89% no conjunto de teste é sólida e mostra que o modelo consegue capturar padrões relevantes, embora ainda haja espaço para pequenas melhorias.\n",
        "\n",
        "---\n"
      ],
      "metadata": {
        "id": "nBgW5rLHa3cq"
      }
    },
    {
      "cell_type": "markdown",
      "metadata": {
        "id": "WdpQIQbXXUXA"
      },
      "source": [
        "## Árvore com PCA\n",
        "\n",
        "Faça uma análise de componemtes principais das variáveis originais. Utilize apenas uma componente. Faça uma árvore de decisão com esta componente como variável explicativa.\n",
        "\n",
        "- Avalie a acurácia nas bases de treinamento e teste\n",
        "- Avalie o tempo de processamento"
      ]
    },
    {
      "cell_type": "code",
      "execution_count": 8,
      "metadata": {
        "colab": {
          "base_uri": "https://localhost:8080/"
        },
        "id": "queV4Cc6XUXB",
        "outputId": "3b14e30f-39e9-4d86-dbf2-1c025450abfc"
      },
      "outputs": [
        {
          "output_type": "stream",
          "name": "stdout",
          "text": [
            "Tempo de treinamento: 0.0763 segundos\n",
            "Acurácia no conjunto de treinamento: 0.9999\n",
            "Acurácia no conjunto de teste: 0.3777\n",
            "CPU times: user 585 ms, sys: 2.52 ms, total: 588 ms\n",
            "Wall time: 688 ms\n"
          ]
        }
      ],
      "source": [
        "%%time\n",
        "# 1. Aplicar PCA nas variáveis originais\n",
        "pca = PCA(n_components=1)  # Reduzir para apenas 1 componente principal\n",
        "X_train_pca = pca.fit_transform(X_train)\n",
        "X_test_pca = pca.transform(X_test)\n",
        "\n",
        "# 2. Treinar a árvore de decisão com a componente principal como variável explicativa\n",
        "clf = DecisionTreeClassifier(random_state=42)\n",
        "start_train = time.time()\n",
        "clf.fit(X_train_pca, y_train)\n",
        "end_train = time.time()\n",
        "\n",
        "# 3. Fazer previsões nos conjuntos de treinamento e teste\n",
        "y_train_pred = clf.predict(X_train_pca)\n",
        "y_test_pred = clf.predict(X_test_pca)\n",
        "\n",
        "# 4. Avaliar a acurácia\n",
        "accuracy_train = accuracy_score(y_train, y_train_pred)\n",
        "accuracy_test = accuracy_score(y_test, y_test_pred)\n",
        "\n",
        "# 5. Medir o tempo de processamento\n",
        "print(\"Tempo de treinamento: {:.4f} segundos\".format(end_train - start_train))\n",
        "print(\"Acurácia no conjunto de treinamento: {:.4f}\".format(accuracy_train))\n",
        "print(\"Acurácia no conjunto de teste: {:.4f}\".format(accuracy_test))"
      ]
    },
    {
      "cell_type": "markdown",
      "source": [
        "### Avaliação de Desempenho do Modelo\n",
        "\n",
        "#### Resultados:\n",
        "- **Tempo de Treinamento:**  \n",
        "  - **0.0763 segundos**  \n",
        "  O treinamento foi extremamente rápido, como esperado para uma árvore de decisão com uma única variável explicativa.\n",
        "\n",
        "- **Acurácia:**\n",
        "  - **Conjunto de Treinamento:**  \n",
        "    - **0.9999**  \n",
        "    A acurácia foi quase perfeita no conjunto de treinamento, indicando ajuste completo aos dados de treinamento (**overfitting** pode ser uma preocupação).\n",
        "\n",
        "  - **Conjunto de Teste:**  \n",
        "    - **0.3777**  \n",
        "    A acurácia no conjunto de teste foi significativamente menor, sugerindo que o modelo não conseguiu generalizar bem para novos dados.\n",
        "\n",
        "- **Tempo Total de Processamento:**  \n",
        "  - **CPU Times:** 585 ms  \n",
        "  - **Wall Time:** 688 ms  \n",
        "  O tempo total de processamento foi eficiente, considerando o treinamento, a aplicação do PCA e as predições.\n",
        "\n",
        "---\n",
        "\n",
        "### Observações:\n",
        "1. **Tempo de Treinamento:**  \n",
        "   O modelo foi treinado rapidamente, um indicador de boa eficiência computacional.\n",
        "\n",
        "2. **Overfitting:**  \n",
        "   O alto desempenho no treinamento e baixo desempenho no teste indicam que o modelo pode ter ajustado excessivamente aos dados de treinamento.\n",
        "\n",
        "3. **Informações Limitadas:**  \n",
        "   Usar apenas uma componente principal provavelmente não foi suficiente para capturar a variância total dos dados, o que impactou negativamente o desempenho no conjunto de teste.\n",
        "\n",
        "---\n"
      ],
      "metadata": {
        "id": "NFCDBSOnaWoc"
      }
    },
    {
      "cell_type": "markdown",
      "metadata": {
        "id": "NfgHFpoGXUXB"
      },
      "source": [
        "## Testando o número de componentes\n",
        "\n",
        "Com base no código acima, teste a árvore de classificação com pelo menos as seguintes possibilidades de quantidades de componentes: ```[1, 2, 5, 10, 50]```. Avalie para cada uma delas:\n",
        "\n",
        "- Acurácia nas bases de treino e teste\n",
        "- Tempo de processamento\n"
      ]
    },
    {
      "cell_type": "code",
      "execution_count": 10,
      "metadata": {
        "colab": {
          "base_uri": "https://localhost:8080/"
        },
        "id": "X6TTdkxeXUXB",
        "outputId": "f88c04e3-19a8-4904-92b9-576e0db36994"
      },
      "outputs": [
        {
          "output_type": "stream",
          "name": "stdout",
          "text": [
            "   n_components  tempo_treinamento  tempo_teste  acuracia_treinamento  \\\n",
            "0             1           0.141987     0.011818              0.999864   \n",
            "1             2           0.074515     0.003815              1.000000   \n",
            "2             5           0.127085     0.003152              1.000000   \n",
            "3            10           0.241316     0.003009              1.000000   \n",
            "4            50           0.802395     0.003564              1.000000   \n",
            "\n",
            "   acuracia_teste  \n",
            "0        0.377672  \n",
            "1        0.451985  \n",
            "2        0.617238  \n",
            "3        0.763488  \n",
            "4        0.762470  \n",
            "CPU times: user 4.26 s, sys: 28.2 ms, total: 4.29 s\n",
            "Wall time: 3.59 s\n"
          ]
        }
      ],
      "source": [
        "%%time\n",
        "# Lista de números de componentes para teste\n",
        "n_components_list = [1, 2, 5, 10, 50]\n",
        "\n",
        "# Lista para armazenar os resultados\n",
        "results = []\n",
        "\n",
        "for n in n_components_list:\n",
        "    # Aplicar PCA com n componentes\n",
        "    pca = PCA(n_components=n)\n",
        "    X_train_pca = pca.fit_transform(X_train)\n",
        "    X_test_pca = pca.transform(X_test)\n",
        "\n",
        "    # Treinar a árvore de decisão\n",
        "    clf = DecisionTreeClassifier(random_state=42)\n",
        "    start_train = time.time()\n",
        "    clf.fit(X_train_pca, y_train)\n",
        "    end_train = time.time()\n",
        "\n",
        "    # Fazer previsões e medir acurácia\n",
        "    start_test = time.time()\n",
        "    y_train_pred = clf.predict(X_train_pca)\n",
        "    y_test_pred = clf.predict(X_test_pca)\n",
        "    end_test = time.time()\n",
        "\n",
        "    accuracy_train = accuracy_score(y_train, y_train_pred)\n",
        "    accuracy_test = accuracy_score(y_test, y_test_pred)\n",
        "\n",
        "    # Armazenar resultados em um dicionário\n",
        "    results.append({\n",
        "        'n_components': n,\n",
        "        'tempo_treinamento': end_train - start_train,\n",
        "        'tempo_teste': end_test - start_test,\n",
        "        'acuracia_treinamento': accuracy_train,\n",
        "        'acuracia_teste': accuracy_test\n",
        "    })\n",
        "\n",
        "# Converter a lista de resultados em um DataFrame\n",
        "results_df = pd.DataFrame(results)\n",
        "\n",
        "# Exibir os resultados\n",
        "print(results_df)"
      ]
    },
    {
      "cell_type": "markdown",
      "source": [
        "### Avaliação de Desempenho do Modelo com Diferentes Quantidades de Componentes\n",
        "\n",
        "#### Resultados:\n",
        "| **n_components** | **Tempo de Treinamento (s)** | **Tempo de Teste (s)** | **Acurácia Treinamento** | **Acurácia Teste** |\n",
        "|-------------------|-----------------------------|-------------------------|---------------------------|--------------------|\n",
        "| 1                 | 0.141987                   | 0.011818               | 0.999864                 | 0.377672           |\n",
        "| 2                 | 0.074515                   | 0.003815               | 1.000000                 | 0.451985           |\n",
        "| 5                 | 0.127085                   | 0.003152               | 1.000000                 | 0.617238           |\n",
        "| 10                | 0.241316                   | 0.003009               | 1.000000                 | 0.763488           |\n",
        "| 50                | 0.802395                   | 0.003564               | 1.000000                 | 0.762470           |\n",
        "\n",
        "#### Processamento Total:\n",
        "- **CPU Times:** 4.26 s (user), 28.2 ms (sys), 4.29 s (total)\n",
        "- **Wall Time:** 3.59 s\n",
        "\n",
        "---\n",
        "\n",
        "### Observações:\n",
        "1. **Tempo de Treinamento:**\n",
        "   - O tempo de treinamento aumenta com o número de componentes principais, o que é esperado, dado que a quantidade de dados a ser processada cresce.\n",
        "\n",
        "2. **Tempo de Teste:**\n",
        "   - O tempo de teste permanece baixo e estável independentemente do número de componentes, o que demonstra eficiência para predições.\n",
        "\n",
        "3. **Acurácia no Treinamento:**\n",
        "   - A acurácia no treinamento é consistentemente alta (praticamente perfeita), indicando que o modelo ajusta bem aos dados de treinamento.\n",
        "\n",
        "4. **Acurácia no Teste:**\n",
        "   - A acurácia no teste melhora com o aumento no número de componentes até cerca de 10, com uma leve redução ao usar 50 componentes, sugerindo uma possível saturação ou overfitting.\n",
        "\n",
        "---\n",
        "\n",
        "### Interpretação:\n",
        "- **Componentes Otimizados:** Usar 10 componentes parece oferecer o melhor equilíbrio entre acurácia no conjunto de teste (76.35%) e tempo de treinamento.\n",
        "- **Limitação com Poucas Componentes:** Com apenas 1 ou 2 componentes, a acurácia no conjunto de teste é baixa, indicando que essas dimensões não capturam variância suficiente para discriminar os dados.\n",
        "\n",
        "---\n"
      ],
      "metadata": {
        "id": "P8Mhzz1Pczac"
      }
    },
    {
      "cell_type": "markdown",
      "metadata": {
        "id": "TsqTBeCdXUXC"
      },
      "source": [
        "## Conclua\n",
        "\n",
        "- O que aconteceu com a acurácia?\n",
        "- O que aconteceu com o tempo de processamento?"
      ]
    },
    {
      "cell_type": "markdown",
      "source": [
        "### Conclusão\n",
        "\n",
        "#### O que aconteceu com a acurácia?\n",
        "- À medida que o número de componentes principais aumentou, a acurácia no conjunto de teste **melhorou significativamente até 10 componentes**, atingindo aproximadamente **76.35%**.\n",
        "- Contudo, ao usar 50 componentes, a acurácia no teste apresentou **uma leve redução para 76.25%**, possivelmente devido a **saturação dos dados ou overfitting**, pois o modelo começa a considerar informações menos relevantes.\n",
        "\n",
        "#### O que aconteceu com o tempo de processamento?\n",
        "- **Tempo de Treinamento:** O tempo de treinamento **aumentou com o número de componentes principais**, de 0.14 segundos para 0.80 segundos. Esse aumento reflete o processamento adicional necessário para trabalhar com mais dimensões nos dados.\n",
        "- **Tempo de Teste:** O tempo de teste permaneceu **estável e muito baixo** (~0.003 segundos em média), mostrando que o modelo é eficiente para predições, independentemente do número de componentes.\n",
        "\n",
        "---\n",
        "\n",
        "### Insights:\n",
        "- **Melhor Número de Componentes:** 10 componentes oferecem o melhor equilíbrio entre **acurácia** (76.35%) e **tempo de processamento**.\n",
        "- **Poucos Componentes (1 ou 2):** Produzem baixa acurácia no teste (< 45%), indicando que a variância capturada não é suficiente para representar os dados.\n",
        "- **Componentes Demais (50):** Aumento no tempo de treinamento sem ganhos significativos na acurácia, sugerindo que a partir de certo ponto, componentes adicionais trazem pouca ou nenhuma vantagem.\n",
        "\n"
      ],
      "metadata": {
        "id": "RSNfLr3TdpuN"
      }
    }
  ],
  "metadata": {
    "kernelspec": {
      "display_name": "Python 3",
      "language": "python",
      "name": "python3"
    },
    "language_info": {
      "codemirror_mode": {
        "name": "ipython",
        "version": 3
      },
      "file_extension": ".py",
      "mimetype": "text/x-python",
      "name": "python",
      "nbconvert_exporter": "python",
      "pygments_lexer": "ipython3",
      "version": "3.8.5"
    },
    "toc": {
      "base_numbering": 1,
      "nav_menu": {},
      "number_sections": true,
      "sideBar": true,
      "skip_h1_title": true,
      "title_cell": "Índice",
      "title_sidebar": "Conteúdo",
      "toc_cell": false,
      "toc_position": {},
      "toc_section_display": true,
      "toc_window_display": false
    },
    "varInspector": {
      "cols": {
        "lenName": 16,
        "lenType": 16,
        "lenVar": 40
      },
      "kernels_config": {
        "python": {
          "delete_cmd_postfix": "",
          "delete_cmd_prefix": "del ",
          "library": "var_list.py",
          "varRefreshCmd": "print(var_dic_list())"
        },
        "r": {
          "delete_cmd_postfix": ") ",
          "delete_cmd_prefix": "rm(",
          "library": "var_list.r",
          "varRefreshCmd": "cat(var_dic_list()) "
        }
      },
      "types_to_exclude": [
        "module",
        "function",
        "builtin_function_or_method",
        "instance",
        "_Feature"
      ],
      "window_display": false
    },
    "colab": {
      "provenance": []
    }
  },
  "nbformat": 4,
  "nbformat_minor": 0
}