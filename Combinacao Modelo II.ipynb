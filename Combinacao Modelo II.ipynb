{
  "nbformat": 4,
  "nbformat_minor": 0,
  "metadata": {
    "colab": {
      "provenance": []
    },
    "kernelspec": {
      "name": "python3",
      "display_name": "Python 3"
    },
    "language_info": {
      "name": "python"
    }
  },
  "cells": [
    {
      "cell_type": "markdown",
      "source": [
        "# Método"
      ],
      "metadata": {
        "id": "cvyVa9gvNu9G"
      }
    },
    {
      "cell_type": "markdown",
      "source": [
        "O Random Forest (RF) é um algoritmo que combina várias \"árvores de decisão\" para chegar a resultados mais precisos e confiáveis. É como se várias pessoas votassem em uma decisão, e a maioria ganhasse. Aqui está o passo a passo para usá-lo:\n",
        "\n",
        "**Prepare os dados:**\n",
        "\n",
        "Junte os dados que você vai usar e limpe-os: resolva valores faltantes ou inconsistências.\n",
        "\n",
        "Separe as colunas: quais são os fatores que influenciam (features) e qual é o objetivo (target).\n",
        "\n",
        "Divida os dados em treino e teste, por exemplo, 80% para treino e 20% para teste.\n",
        "\n",
        "**Configure os parâmetros:**\n",
        "\n",
        "Decida quantas árvores o modelo terá (por exemplo, 100 árvores).\n",
        "\n",
        "Escolha a profundidade máxima das árvores, para que elas não fiquem muito complexas.\n",
        "\n",
        "Determine o número mínimo de exemplos necessários em cada folha da árvore.\n",
        "\n",
        "**Treine o modelo:**\n",
        "\n",
        "O algoritmo cria várias árvores, cada uma com um pedaço aleatório dos dados.\n",
        "\n",
        "Cada árvore é treinada para fazer previsões e \"vota\" no resultado final.\n",
        "\n",
        "**Teste e avalie:**\n",
        "\n",
        "Use os dados de teste para verificar se o modelo funciona bem.\n",
        "\n",
        "Meça a performance com métricas como precisão (accuracy), recall, ou erro médio (para problemas de regressão).\n",
        "\n",
        "**Ajuste se necessário:**\n",
        "\n",
        "Experimente mudar os parâmetros para tentar melhorar os resultados (isso pode ser feito com algo como Grid Search ou Random Search).\n",
        "\n",
        "**Coloque em prática:**\n",
        "\n",
        "Depois de ajustado, use o modelo para prever novos dados."
      ],
      "metadata": {
        "id": "7WIfoIkeMvSZ"
      }
    },
    {
      "cell_type": "markdown",
      "source": [
        "# Como entendo o RF?"
      ],
      "metadata": {
        "id": "9OzVHsuyNpDf"
      }
    },
    {
      "cell_type": "markdown",
      "source": [
        "O Random Forest (RF) é como perguntar para várias pessoas e seguir a opinião da maioria. Em vez de usar só uma decisão, eu uso várias “árvores de decisão” para chegar a um resultado mais confiável.\n",
        "\n",
        "Como eu faço isso:\n",
        "\n",
        " Preparando os dados\n",
        "Primeiro, junto todas as informações que preciso e arrumo os erros. Depois, separo o que influencia o resultado (features) e o que quero prever (target). Para garantir que o modelo aprenda bem, divido os dados: uma parte para treinar (80%) e outra para testar (20%).\n",
        "\n",
        "**Configurando o modelo**\n",
        "\n",
        "Escolho:\n",
        "\n",
        "Quantas árvores usar (100 costuma ser um bom número).\n",
        "O tamanho máximo das árvores, para não ficarem complicadas demais.\n",
        "Quantos exemplos mínimos cada folha da árvore precisa ter.\n",
        "Treinando o modelo aqui, o algoritmo cria várias árvores, cada uma aprendendo com partes diferentes dos dados. No final, elas “votam” e escolhem a melhor resposta.\n",
        "\n",
        "Testando o modelo uso os dados de teste para ver se ele acerta. Para medir o desempenho, olho números como precisão (accuracy), recall ou erro médio (se for um problema de regressão).\n",
        "\n",
        "Ajustando e melhorando se os resultados não forem bons, eu mudo algumas configurações para melhorar. Posso usar ferramentas como Grid Search ou Random Search para me ajudar.\n",
        "\n",
        "Usando na prática quando tudo estiver certo, posso usar o modelo para fazer previsões sobre novos dados."
      ],
      "metadata": {
        "id": "iOYIyjDWNiGa"
      }
    },
    {
      "cell_type": "markdown",
      "source": [
        "# Diferença entre Bagging e Random Forest"
      ],
      "metadata": {
        "id": "PsKjx8GGOrUf"
      }
    },
    {
      "cell_type": "markdown",
      "source": [
        "Bagging: Técnica geral que cria modelos independentes com amostras aleatórias dos dados. Funciona com qualquer tipo de modelo e combina resultados por média ou votação.\n",
        "\n",
        "Random Forest: Uma aplicação específica do Bagging, usando exclusivamente árvores de decisão. Introduz aleatoriedade na escolha de features, tornando o modelo mais robusto e eficiente contra overfitting."
      ],
      "metadata": {
        "id": "8pM7yBOeOp23"
      }
    },
    {
      "cell_type": "code",
      "source": [
        "import numpy as np\n",
        "import plotly.graph_objects as go\n",
        "from sklearn.metrics import accuracy_score\n",
        "from sklearn.datasets import load_iris\n",
        "from sklearn.model_selection import train_test_split\n",
        "\n",
        "# Função personalizada para Random Forest\n",
        "class RandomForest:\n",
        "    def __init__(self, n_trees=10, max_features=None):\n",
        "        self.n_trees = n_trees\n",
        "        self.max_features = max_features\n",
        "        self.trees = []\n",
        "\n",
        "    def bootstrap_sample(self, X, y):\n",
        "        n_samples = X.shape[0]\n",
        "        indices = np.random.choice(n_samples, size=n_samples, replace=True)\n",
        "        return X[indices], y[indices]\n",
        "\n",
        "    def fit(self, X, y):\n",
        "        for _ in range(self.n_trees):\n",
        "            X_sample, y_sample = self.bootstrap_sample(X, y)\n",
        "\n",
        "            if self.max_features is None:\n",
        "                self.max_features = int(np.sqrt(X.shape[1]))\n",
        "            feature_indices = np.random.choice(X.shape[1], self.max_features, replace=False)\n",
        "\n",
        "            tree = DecisionTreeClassifier()\n",
        "            tree.fit(X_sample[:, feature_indices], y_sample)\n",
        "            self.trees.append((tree, feature_indices))\n",
        "\n",
        "    def predict(self, X):\n",
        "        tree_predictions = []\n",
        "        for tree, feature_indices in self.trees:\n",
        "            tree_predictions.append(tree.predict(X[:, feature_indices]))\n",
        "\n",
        "        tree_predictions = np.array(tree_predictions).T\n",
        "        majority_votes = [Counter(tree_pred).most_common(1)[0][0] for tree_pred in tree_predictions]\n",
        "        return np.array(majority_votes)\n",
        "\n",
        "# Carregar o dataset\n",
        "data = load_iris()\n",
        "X, y = data.data, data.target\n",
        "X_train, X_test, y_train, y_test = train_test_split(X, y, test_size=0.3, random_state=42)\n",
        "\n",
        "# Medir a acurácia para diferentes números de árvores\n",
        "accuracies = []\n",
        "n_trees_range = range(1, 50, 5)\n",
        "\n",
        "for n_trees in n_trees_range:\n",
        "    model = RandomForest(n_trees=n_trees, max_features=2)\n",
        "    model.fit(X_train, y_train)\n",
        "    predictions = model.predict(X_test)\n",
        "    accuracies.append(accuracy_score(y_test, predictions))\n",
        "\n",
        "# Criar o gráfico interativo com Plotly\n",
        "fig = go.Figure()\n",
        "\n",
        "fig.add_trace(go.Scatter(\n",
        "    x=list(n_trees_range),\n",
        "    y=accuracies,\n",
        "    mode='lines+markers',\n",
        "    name='Acurácia'\n",
        "))\n",
        "\n",
        "fig.update_layout(\n",
        "    title='Performance do Random Forest com Diferentes Números de Árvores',\n",
        "    xaxis=dict(title='Número de Árvores'),\n",
        "    yaxis=dict(title='Acurácia'),\n",
        "    template='plotly_dark'\n",
        ")\n",
        "\n",
        "fig.show()\n"
      ],
      "metadata": {
        "colab": {
          "base_uri": "https://localhost:8080/",
          "height": 542
        },
        "id": "q4-A2O32POUo",
        "outputId": "d62e90ed-3480-4191-c05e-24859ae84c4a"
      },
      "execution_count": 2,
      "outputs": [
        {
          "output_type": "display_data",
          "data": {
            "text/html": [
              "<html>\n",
              "<head><meta charset=\"utf-8\" /></head>\n",
              "<body>\n",
              "    <div>            <script src=\"https://cdnjs.cloudflare.com/ajax/libs/mathjax/2.7.5/MathJax.js?config=TeX-AMS-MML_SVG\"></script><script type=\"text/javascript\">if (window.MathJax && window.MathJax.Hub && window.MathJax.Hub.Config) {window.MathJax.Hub.Config({SVG: {font: \"STIX-Web\"}});}</script>                <script type=\"text/javascript\">window.PlotlyConfig = {MathJaxConfig: 'local'};</script>\n",
              "        <script charset=\"utf-8\" src=\"https://cdn.plot.ly/plotly-2.35.2.min.js\"></script>                <div id=\"0c65e061-d888-4c7c-b5f1-b57045ccbe97\" class=\"plotly-graph-div\" style=\"height:525px; width:100%;\"></div>            <script type=\"text/javascript\">                                    window.PLOTLYENV=window.PLOTLYENV || {};                                    if (document.getElementById(\"0c65e061-d888-4c7c-b5f1-b57045ccbe97\")) {                    Plotly.newPlot(                        \"0c65e061-d888-4c7c-b5f1-b57045ccbe97\",                        [{\"mode\":\"lines+markers\",\"name\":\"Acurácia\",\"x\":[1,6,11,16,21,26,31,36,41,46],\"y\":[0.9777777777777777,1.0,0.9777777777777777,1.0,0.9777777777777777,1.0,1.0,1.0,1.0,1.0],\"type\":\"scatter\"}],                        {\"template\":{\"data\":{\"barpolar\":[{\"marker\":{\"line\":{\"color\":\"rgb(17,17,17)\",\"width\":0.5},\"pattern\":{\"fillmode\":\"overlay\",\"size\":10,\"solidity\":0.2}},\"type\":\"barpolar\"}],\"bar\":[{\"error_x\":{\"color\":\"#f2f5fa\"},\"error_y\":{\"color\":\"#f2f5fa\"},\"marker\":{\"line\":{\"color\":\"rgb(17,17,17)\",\"width\":0.5},\"pattern\":{\"fillmode\":\"overlay\",\"size\":10,\"solidity\":0.2}},\"type\":\"bar\"}],\"carpet\":[{\"aaxis\":{\"endlinecolor\":\"#A2B1C6\",\"gridcolor\":\"#506784\",\"linecolor\":\"#506784\",\"minorgridcolor\":\"#506784\",\"startlinecolor\":\"#A2B1C6\"},\"baxis\":{\"endlinecolor\":\"#A2B1C6\",\"gridcolor\":\"#506784\",\"linecolor\":\"#506784\",\"minorgridcolor\":\"#506784\",\"startlinecolor\":\"#A2B1C6\"},\"type\":\"carpet\"}],\"choropleth\":[{\"colorbar\":{\"outlinewidth\":0,\"ticks\":\"\"},\"type\":\"choropleth\"}],\"contourcarpet\":[{\"colorbar\":{\"outlinewidth\":0,\"ticks\":\"\"},\"type\":\"contourcarpet\"}],\"contour\":[{\"colorbar\":{\"outlinewidth\":0,\"ticks\":\"\"},\"colorscale\":[[0.0,\"#0d0887\"],[0.1111111111111111,\"#46039f\"],[0.2222222222222222,\"#7201a8\"],[0.3333333333333333,\"#9c179e\"],[0.4444444444444444,\"#bd3786\"],[0.5555555555555556,\"#d8576b\"],[0.6666666666666666,\"#ed7953\"],[0.7777777777777778,\"#fb9f3a\"],[0.8888888888888888,\"#fdca26\"],[1.0,\"#f0f921\"]],\"type\":\"contour\"}],\"heatmapgl\":[{\"colorbar\":{\"outlinewidth\":0,\"ticks\":\"\"},\"colorscale\":[[0.0,\"#0d0887\"],[0.1111111111111111,\"#46039f\"],[0.2222222222222222,\"#7201a8\"],[0.3333333333333333,\"#9c179e\"],[0.4444444444444444,\"#bd3786\"],[0.5555555555555556,\"#d8576b\"],[0.6666666666666666,\"#ed7953\"],[0.7777777777777778,\"#fb9f3a\"],[0.8888888888888888,\"#fdca26\"],[1.0,\"#f0f921\"]],\"type\":\"heatmapgl\"}],\"heatmap\":[{\"colorbar\":{\"outlinewidth\":0,\"ticks\":\"\"},\"colorscale\":[[0.0,\"#0d0887\"],[0.1111111111111111,\"#46039f\"],[0.2222222222222222,\"#7201a8\"],[0.3333333333333333,\"#9c179e\"],[0.4444444444444444,\"#bd3786\"],[0.5555555555555556,\"#d8576b\"],[0.6666666666666666,\"#ed7953\"],[0.7777777777777778,\"#fb9f3a\"],[0.8888888888888888,\"#fdca26\"],[1.0,\"#f0f921\"]],\"type\":\"heatmap\"}],\"histogram2dcontour\":[{\"colorbar\":{\"outlinewidth\":0,\"ticks\":\"\"},\"colorscale\":[[0.0,\"#0d0887\"],[0.1111111111111111,\"#46039f\"],[0.2222222222222222,\"#7201a8\"],[0.3333333333333333,\"#9c179e\"],[0.4444444444444444,\"#bd3786\"],[0.5555555555555556,\"#d8576b\"],[0.6666666666666666,\"#ed7953\"],[0.7777777777777778,\"#fb9f3a\"],[0.8888888888888888,\"#fdca26\"],[1.0,\"#f0f921\"]],\"type\":\"histogram2dcontour\"}],\"histogram2d\":[{\"colorbar\":{\"outlinewidth\":0,\"ticks\":\"\"},\"colorscale\":[[0.0,\"#0d0887\"],[0.1111111111111111,\"#46039f\"],[0.2222222222222222,\"#7201a8\"],[0.3333333333333333,\"#9c179e\"],[0.4444444444444444,\"#bd3786\"],[0.5555555555555556,\"#d8576b\"],[0.6666666666666666,\"#ed7953\"],[0.7777777777777778,\"#fb9f3a\"],[0.8888888888888888,\"#fdca26\"],[1.0,\"#f0f921\"]],\"type\":\"histogram2d\"}],\"histogram\":[{\"marker\":{\"pattern\":{\"fillmode\":\"overlay\",\"size\":10,\"solidity\":0.2}},\"type\":\"histogram\"}],\"mesh3d\":[{\"colorbar\":{\"outlinewidth\":0,\"ticks\":\"\"},\"type\":\"mesh3d\"}],\"parcoords\":[{\"line\":{\"colorbar\":{\"outlinewidth\":0,\"ticks\":\"\"}},\"type\":\"parcoords\"}],\"pie\":[{\"automargin\":true,\"type\":\"pie\"}],\"scatter3d\":[{\"line\":{\"colorbar\":{\"outlinewidth\":0,\"ticks\":\"\"}},\"marker\":{\"colorbar\":{\"outlinewidth\":0,\"ticks\":\"\"}},\"type\":\"scatter3d\"}],\"scattercarpet\":[{\"marker\":{\"colorbar\":{\"outlinewidth\":0,\"ticks\":\"\"}},\"type\":\"scattercarpet\"}],\"scattergeo\":[{\"marker\":{\"colorbar\":{\"outlinewidth\":0,\"ticks\":\"\"}},\"type\":\"scattergeo\"}],\"scattergl\":[{\"marker\":{\"line\":{\"color\":\"#283442\"}},\"type\":\"scattergl\"}],\"scattermapbox\":[{\"marker\":{\"colorbar\":{\"outlinewidth\":0,\"ticks\":\"\"}},\"type\":\"scattermapbox\"}],\"scatterpolargl\":[{\"marker\":{\"colorbar\":{\"outlinewidth\":0,\"ticks\":\"\"}},\"type\":\"scatterpolargl\"}],\"scatterpolar\":[{\"marker\":{\"colorbar\":{\"outlinewidth\":0,\"ticks\":\"\"}},\"type\":\"scatterpolar\"}],\"scatter\":[{\"marker\":{\"line\":{\"color\":\"#283442\"}},\"type\":\"scatter\"}],\"scatterternary\":[{\"marker\":{\"colorbar\":{\"outlinewidth\":0,\"ticks\":\"\"}},\"type\":\"scatterternary\"}],\"surface\":[{\"colorbar\":{\"outlinewidth\":0,\"ticks\":\"\"},\"colorscale\":[[0.0,\"#0d0887\"],[0.1111111111111111,\"#46039f\"],[0.2222222222222222,\"#7201a8\"],[0.3333333333333333,\"#9c179e\"],[0.4444444444444444,\"#bd3786\"],[0.5555555555555556,\"#d8576b\"],[0.6666666666666666,\"#ed7953\"],[0.7777777777777778,\"#fb9f3a\"],[0.8888888888888888,\"#fdca26\"],[1.0,\"#f0f921\"]],\"type\":\"surface\"}],\"table\":[{\"cells\":{\"fill\":{\"color\":\"#506784\"},\"line\":{\"color\":\"rgb(17,17,17)\"}},\"header\":{\"fill\":{\"color\":\"#2a3f5f\"},\"line\":{\"color\":\"rgb(17,17,17)\"}},\"type\":\"table\"}]},\"layout\":{\"annotationdefaults\":{\"arrowcolor\":\"#f2f5fa\",\"arrowhead\":0,\"arrowwidth\":1},\"autotypenumbers\":\"strict\",\"coloraxis\":{\"colorbar\":{\"outlinewidth\":0,\"ticks\":\"\"}},\"colorscale\":{\"diverging\":[[0,\"#8e0152\"],[0.1,\"#c51b7d\"],[0.2,\"#de77ae\"],[0.3,\"#f1b6da\"],[0.4,\"#fde0ef\"],[0.5,\"#f7f7f7\"],[0.6,\"#e6f5d0\"],[0.7,\"#b8e186\"],[0.8,\"#7fbc41\"],[0.9,\"#4d9221\"],[1,\"#276419\"]],\"sequential\":[[0.0,\"#0d0887\"],[0.1111111111111111,\"#46039f\"],[0.2222222222222222,\"#7201a8\"],[0.3333333333333333,\"#9c179e\"],[0.4444444444444444,\"#bd3786\"],[0.5555555555555556,\"#d8576b\"],[0.6666666666666666,\"#ed7953\"],[0.7777777777777778,\"#fb9f3a\"],[0.8888888888888888,\"#fdca26\"],[1.0,\"#f0f921\"]],\"sequentialminus\":[[0.0,\"#0d0887\"],[0.1111111111111111,\"#46039f\"],[0.2222222222222222,\"#7201a8\"],[0.3333333333333333,\"#9c179e\"],[0.4444444444444444,\"#bd3786\"],[0.5555555555555556,\"#d8576b\"],[0.6666666666666666,\"#ed7953\"],[0.7777777777777778,\"#fb9f3a\"],[0.8888888888888888,\"#fdca26\"],[1.0,\"#f0f921\"]]},\"colorway\":[\"#636efa\",\"#EF553B\",\"#00cc96\",\"#ab63fa\",\"#FFA15A\",\"#19d3f3\",\"#FF6692\",\"#B6E880\",\"#FF97FF\",\"#FECB52\"],\"font\":{\"color\":\"#f2f5fa\"},\"geo\":{\"bgcolor\":\"rgb(17,17,17)\",\"lakecolor\":\"rgb(17,17,17)\",\"landcolor\":\"rgb(17,17,17)\",\"showlakes\":true,\"showland\":true,\"subunitcolor\":\"#506784\"},\"hoverlabel\":{\"align\":\"left\"},\"hovermode\":\"closest\",\"mapbox\":{\"style\":\"dark\"},\"paper_bgcolor\":\"rgb(17,17,17)\",\"plot_bgcolor\":\"rgb(17,17,17)\",\"polar\":{\"angularaxis\":{\"gridcolor\":\"#506784\",\"linecolor\":\"#506784\",\"ticks\":\"\"},\"bgcolor\":\"rgb(17,17,17)\",\"radialaxis\":{\"gridcolor\":\"#506784\",\"linecolor\":\"#506784\",\"ticks\":\"\"}},\"scene\":{\"xaxis\":{\"backgroundcolor\":\"rgb(17,17,17)\",\"gridcolor\":\"#506784\",\"gridwidth\":2,\"linecolor\":\"#506784\",\"showbackground\":true,\"ticks\":\"\",\"zerolinecolor\":\"#C8D4E3\"},\"yaxis\":{\"backgroundcolor\":\"rgb(17,17,17)\",\"gridcolor\":\"#506784\",\"gridwidth\":2,\"linecolor\":\"#506784\",\"showbackground\":true,\"ticks\":\"\",\"zerolinecolor\":\"#C8D4E3\"},\"zaxis\":{\"backgroundcolor\":\"rgb(17,17,17)\",\"gridcolor\":\"#506784\",\"gridwidth\":2,\"linecolor\":\"#506784\",\"showbackground\":true,\"ticks\":\"\",\"zerolinecolor\":\"#C8D4E3\"}},\"shapedefaults\":{\"line\":{\"color\":\"#f2f5fa\"}},\"sliderdefaults\":{\"bgcolor\":\"#C8D4E3\",\"bordercolor\":\"rgb(17,17,17)\",\"borderwidth\":1,\"tickwidth\":0},\"ternary\":{\"aaxis\":{\"gridcolor\":\"#506784\",\"linecolor\":\"#506784\",\"ticks\":\"\"},\"baxis\":{\"gridcolor\":\"#506784\",\"linecolor\":\"#506784\",\"ticks\":\"\"},\"bgcolor\":\"rgb(17,17,17)\",\"caxis\":{\"gridcolor\":\"#506784\",\"linecolor\":\"#506784\",\"ticks\":\"\"}},\"title\":{\"x\":0.05},\"updatemenudefaults\":{\"bgcolor\":\"#506784\",\"borderwidth\":0},\"xaxis\":{\"automargin\":true,\"gridcolor\":\"#283442\",\"linecolor\":\"#506784\",\"ticks\":\"\",\"title\":{\"standoff\":15},\"zerolinecolor\":\"#283442\",\"zerolinewidth\":2},\"yaxis\":{\"automargin\":true,\"gridcolor\":\"#283442\",\"linecolor\":\"#506784\",\"ticks\":\"\",\"title\":{\"standoff\":15},\"zerolinecolor\":\"#283442\",\"zerolinewidth\":2}}},\"title\":{\"text\":\"Performance do Random Forest com Diferentes Números de Árvores\"},\"xaxis\":{\"title\":{\"text\":\"Número de Árvores\"}},\"yaxis\":{\"title\":{\"text\":\"Acurácia\"}}},                        {\"responsive\": true}                    ).then(function(){\n",
              "                            \n",
              "var gd = document.getElementById('0c65e061-d888-4c7c-b5f1-b57045ccbe97');\n",
              "var x = new MutationObserver(function (mutations, observer) {{\n",
              "        var display = window.getComputedStyle(gd).display;\n",
              "        if (!display || display === 'none') {{\n",
              "            console.log([gd, 'removed!']);\n",
              "            Plotly.purge(gd);\n",
              "            observer.disconnect();\n",
              "        }}\n",
              "}});\n",
              "\n",
              "// Listen for the removal of the full notebook cells\n",
              "var notebookContainer = gd.closest('#notebook-container');\n",
              "if (notebookContainer) {{\n",
              "    x.observe(notebookContainer, {childList: true});\n",
              "}}\n",
              "\n",
              "// Listen for the clearing of the current output cell\n",
              "var outputEl = gd.closest('.output');\n",
              "if (outputEl) {{\n",
              "    x.observe(outputEl, {childList: true});\n",
              "}}\n",
              "\n",
              "                        })                };                            </script>        </div>\n",
              "</body>\n",
              "</html>"
            ]
          },
          "metadata": {}
        }
      ]
    }
  ]
}